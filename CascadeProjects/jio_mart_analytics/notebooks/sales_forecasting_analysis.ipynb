{
 "cells": [
  {
   "cell_type": "markdown",
   "metadata": {},
   "source": [
    "# Sales Forecasting & Product Mix Optimization Analysis\n",
    "\n",
    "This notebook contains the analysis for JioMart regional stores in Tamil Nadu. We'll perform:\n",
    "1. Exploratory Data Analysis\n",
    "2. Sales Forecasting using ARIMA and Prophet\n",
    "3. Product Mix Optimization\n",
    "4. Regional Performance Analysis"
   ]
  },
  {
   "cell_type": "code",
   "execution_count": null,
   "metadata": {},
   "source": [
    "# Import necessary libraries\n",
    "import pandas as pd\n",
    "import numpy as np\n",
    "import matplotlib.pyplot as plt\n",
    "import seaborn as sns\n",
    "from statsmodels.tsa.seasonal import seasonal_decompose\n",
    "from statsmodels.tsa.stattools import adfuller\n",
    "from statsmodels.tsa.arima.model import ARIMA\n",
    "from prophet import Prophet\n",
    "from sklearn.metrics import mean_absolute_error, mean_squared_error\n",
    "\n",
    "# Set plotting style\n",
    "plt.style.use('seaborn')\n",
    "plt.rcParams['figure.figsize'] = (12, 6)"
   ]
  },
  {
   "cell_type": "markdown",
   "metadata": {},
   "source": [
    "## Data Loading and Initial Exploration"
   ]
  },
  {
   "cell_type": "code",
   "execution_count": null,
   "metadata": {},
   "source": [
    "# Load the dataset\n",
    "df = pd.read_csv('../data/sales_data.csv')\n",
    "\n",
    "# Convert date to datetime\n",
    "df['Date'] = pd.to_datetime(df['Date'])\n",
    "\n",
    "# Display basic information\n",
    "print(\"Dataset Shape:\", df.shape)\n",
    "print(\"\nColumns:\", df.columns.tolist())\n",
    "print(\"\nMissing Values:\")\n",
    "print(df.isnull().sum())\n",
    "\n",
    "# Basic statistics\n",
    "df.describe()"
   ]
  },
  {
   "cell_type": "markdown",
   "metadata": {},
   "source": [
    "## Exploratory Data Analysis"
   ]
  },
  {
   "cell_type": "code",
   "execution_count": null,
   "metadata": {},
   "source": [
    "# Store-wise sales distribution\n",
    "plt.figure(figsize=(15, 8))\n",
    "sns.boxplot(x='City', y='Revenue', data=df)\n",
    "plt.title('Revenue Distribution by City')\n",
    "plt.xticks(rotation=45)\n",
    "plt.show()\n",
    "\n",
    "# Category-wise sales\n",
    "category_sales = df.groupby('Category')['Revenue'].sum().sort_values(ascending=False)\n",
    "plt.figure(figsize=(12, 6))\n",
    "category_sales.plot(kind='bar')\n",
    "plt.title('Total Revenue by Category')\n",
    "plt.ylabel('Revenue')\n",
    "plt.show()"
   ]
  },
  {
   "cell_type": "markdown",
   "metadata": {},
   "source": [
    "## Time Series Analysis"
   ]
  },
  {
   "cell_type": "code",
   "execution_count": null,
   "metadata": {},
   "source": [
    "# Monthly sales trend\n",
    "monthly_sales = df.groupby(df['Date'].dt.to_period('M'))['Revenue'].sum()\n",
    "\n",
    "# Decompose time series\n",
    "result = seasonal_decompose(monthly_sales, model='additive')\n",
    "result.plot()\n",
    "plt.show()\n",
    "\n",
    "# Check stationarity\n",
    "result = adfuller(monthly_sales)\n",
    "print('ADF Statistic:', result[0])\n",
    "print('p-value:', result[1])"
   ]
  },
  {
   "cell_type": "markdown",
   "metadata": {},
   "source": [
    "## Sales Forecasting"
   ]
  },
  {
   "cell_type": "code",
   "execution_count": null,
   "metadata": {},
   "source": [
    "# Prepare data for ARIMA\n",
    "arima_data = monthly_sales.to_frame().reset_index()\n",
    "arima_data.columns = ['Date', 'Revenue']\n",
    "\n",
    "# Split data\n",
    "train = arima_data.iloc[:-12]  # Last 12 months as test\n",
    "test = arima_data.iloc[-12:]\n",
    "\n",
    "# Train ARIMA model\n",
    "model = ARIMA(train['Revenue'], order=(1, 1, 1))\n",
    "model_fit = model.fit()\n",
    "\n",
    "# Forecast\n",
    "forecast = model_fit.forecast(steps=12)\n",
    "\n",
    "# Calculate metrics\n",
    "mae = mean_absolute_error(test['Revenue'], forecast)\n",
    "rmse = np.sqrt(mean_squared_error(test['Revenue'], forecast))\n",
    "\n",
    "print(f'ARIMA Model Performance:\nMAE: {mae:.2f}\nRMSE: {rmse:.2f}')\n",
    "\n",
    "# Plot results\n",
    "plt.figure(figsize=(12, 6))\n",
    "plt.plot(train['Date'], train['Revenue'], label='Train')\n",
    "plt.plot(test['Date'], test['Revenue'], label='Test')\n",
    "plt.plot(test['Date'], forecast, label='Forecast')\n",
    "plt.legend()\n",
    "plt.title('ARIMA Forecast')\n",
    "plt.show()"
   ]
  },
  {
   "cell_type": "markdown",
   "metadata": {},
   "source": [
    "## Product Mix Optimization"
   ]
  },
  {
   "cell_type": "code",
   "execution_count": null,
   "metadata": {},
   "source": [
    "# Calculate product performance metrics\n",
    "product_perf = df.groupby(['Product_Name', 'Category']).agg({\n    'Units_Sold': 'sum',\n    'Revenue': 'sum',\n    'Profit_Margin': 'mean'\n}).reset_index()\n",
    "\n",
    "# Calculate ROI\n",
    "product_perf['ROI'] = (product_perf['Revenue'] * product_perf['Profit_Margin']) / product_perf['Units_Sold']\n",
    "\n",
    "# Identify underperforming products\n",
    "threshold = product_perf['ROI'].quantile(0.25)  # Bottom 25%\n",
    "underperforming = product_perf[product_perf['ROI'] < threshold]\n",
    "\n",
    "print('Top 10 Underperforming Products:\n')\n",
    "print(underperforming.sort_values('ROI').head(10))"
   ]
  },
  {
   "cell_type": "markdown",
   "metadata": {},
   "source": [
    "## Regional Performance Analysis"
   ]
  },
  {
   "cell_type": "code",
   "execution_count": null,
   "metadata": {},
   "source": [
    "# Store-wise performance\n",
    "store_perf = df.groupby(['City', 'Store_ID']).agg({\n    'Revenue': 'sum',\n    'Profit_Margin': 'mean',\n    'Units_Sold': 'sum'\n}).reset_index()\n",
    "\n",
    "# Calculate store efficiency\n",
    "store_perf['Efficiency'] = store_perf['Revenue'] / store_perf['Units_Sold']\n",
    "\n",
    "# Visualize store performance\n",
    "plt.figure(figsize=(15, 8))\n",
    "sns.scatterplot(data=store_perf, x='Units_Sold', y='Revenue', \n    hue='City', size='Profit_Margin', sizes=(50, 200))\n",
    "plt.title('Store Performance Analysis')\n",
    "plt.xlabel('Total Units Sold')\n",
    "plt.ylabel('Total Revenue')\n",
    "plt.legend(bbox_to_anchor=(1.05, 1), loc='upper left')\n",
    "plt.show()"
   ]
  },
  {
   "cell_type": "markdown",
   "metadata": {},
   "source": [
    "## Recommendations"
   ]
  },
  {
   "cell_type": "markdown",
   "metadata": {},
   "source": [
    "1. **Sales Forecasting:**\n",
    "   - Implement ARIMA model for monthly sales predictions\n",
    "   - Monitor forecast accuracy and update models periodically\n",
    "\n",
    "2. **Product Mix Optimization:**\n",
    "   - Review and potentially discontinue underperforming SKUs\n",
    "   - Focus on high ROI products in each category\n",
    "   - Consider category-specific promotions\n",
    "\n",
    "3. **Regional Strategy:**\n",
    "   - Tailor marketing strategies based on city-wise performance\n",
    "   - Optimize inventory levels based on regional demand patterns\n",
    "   - Implement targeted promotions in high-potential cities"
   ]
  }
 ],
 "metadata": {
  "kernelspec": {
   "display_name": "Python 3",
   "language": "python",
   "name": "python3"
  },
  "language_info": {
   "codemirror_mode": {
    "name": "ipython",
    "version": 3
   },
   "file_extension": ".py",
   "mimetype": "text/x-python",
   "name": "python",
   "nbconvert_exporter": "python",
   "pygments_lexer": "ipython3",
   "version": "3.11.0"
  }
 },
 "nbformat": 4,
 "nbformat_minor": 4
}
